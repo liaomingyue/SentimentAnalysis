{
 "cells": [
  {
   "cell_type": "code",
   "execution_count": 1,
   "metadata": {
    "collapsed": true
   },
   "outputs": [
    {
     "name": "stdout",
     "output_type": "stream",
     "text": [
      "D:\\PycharmProjects\\SentimentAnalysis\n"
     ]
    }
   ],
   "source": [
    "import os\n",
    "\n",
    "print(os.getcwd())"
   ]
  },
  {
   "cell_type": "code",
   "execution_count": 2,
   "metadata": {
    "collapsed": false
   },
   "outputs": [
    {
     "name": "stdout",
     "output_type": "stream",
     "text": [
      "32185\n[{'sentence': '回 复 @ 王 羊 羊 的 微 博 : 是 ， 要 的 就 是 安 静 的 生 存 环 境 ， 而 且 ， 到 北 京 五 环 2 5 分 钟 车 程 ， 9 3 8 离 我 住 处 只 有 3 0 0 米 ， 饮 食 一 条 街 更 是 北 京 饮 食 街 的 翻 版 ， 应 有 尽 有 。', 'label': 'none'}, {'sentence': '/ / @ 王 羊 羊 的 微 博 : 廊 坊 是 个 好 地 方 ， 紧 邻 京 津 ， 有 点 闹 中 取 静 的 意 思 。', 'label': 'none'}, {'sentence': '录 入 。', 'label': 'none'}, {'sentence': '/ / @ 广 州 L e s _ g o : 我 捻 依 出 戏 真 系 好 多 l e s 噶 最 爱 咯 。', 'label': 'none'}, {'sentence': '好 写 实 同 时 都 好 向 往 。', 'label': 'none'}, {'sentence': '难 得 一 部 反 映 l e s 噶 情 感 同 面 临 噶 困 难 噶 一 出 粤 语 电 影 。', 'label': 'none'}, {'sentence': 'Q Q 培 训 班 群 早 盘 操 作 提 示 : 由 于 上 周 再 收 十 字 星 , 市 场 是 下 跌 中 继 还 是 初 步 见 底 ？', 'label': 'none'}, {'sentence': '本 周 将 会 有 一 结 果 。', 'label': 'none'}, {'sentence': '目 前 股 指 下 破 2 0   3 0 周 线 的 支 撑 已 三 周 , 5 周 线 本 周 将 与 2 0   3 0 周 线 形 成 死 叉 ， 显 示 中 期 调 整 仍 在 进 行 之 中 , 市 场 重 心 下 移 的 趋 势 难 以 改 变 ,', 'label': 'none'}, {'sentence': '今 儿 老 爸 逮 着 我 一 顿 狠 念 ！', 'label': 'none'}]\n"
     ]
    }
   ],
   "source": [
    "import xml\n",
    "\n",
    "change = {\n",
    "    '愤怒': 'anger', '恐惧': 'fear', '高兴': 'happiness', '喜好': 'like', '惊讶': 'surprise', '厌恶': 'disgust', '悲伤': 'sadness'\n",
    "}\n",
    "\n",
    "def readXML(filename):\n",
    "    DOMTree = xml.dom.minidom.parse(filename)\n",
    "    collection = DOMTree.documentElement\n",
    "\n",
    "    weibos = collection.getElementsByTagName(\"weibo\")\n",
    "\n",
    "    ret_content = []\n",
    "    for weibo in weibos:\n",
    "        sentence = weibo.getElementsByTagName('sentence')\n",
    "        for e in sentence:\n",
    "            # print(e)\n",
    "            try:\n",
    "                sentence = e.childNodes[0].data\n",
    "            except:\n",
    "                print(e.childNodes)\n",
    "                break\n",
    "            if e.getAttribute('opinionated') == 'Y':\n",
    "                label = e.getAttribute('emotion-1-type')\n",
    "            else:\n",
    "                label = 'none' \n",
    "            sentence = ' '.join(sentence)\n",
    "            if label in change.keys():\n",
    "                label = change[label]\n",
    "            else:\n",
    "                label = 'none'\n",
    "            ret_content.append({\n",
    "                'sentence': sentence,\n",
    "                'label': label\n",
    "            })\n",
    "    return ret_content\n",
    "\n",
    "weibo_path = os.path.join('dataset', 'raw_data', '微博情绪标注语料.xml')\n",
    "\n",
    "ret_content = readXML(weibo_path)\n",
    "print(len(ret_content))\n",
    "print(ret_content[:10])"
   ]
  },
  {
   "cell_type": "code",
   "execution_count": 3,
   "metadata": {
    "collapsed": false
   },
   "outputs": [
    {
     "name": "stdout",
     "output_type": "stream",
     "text": [
      "{'fear', 'surprise', 'disgust', 'none', 'happiness', 'anger', 'like', 'sadness'}\n"
     ]
    }
   ],
   "source": [
    "labels = set()\n",
    "\n",
    "for item in ret_content:\n",
    "    labels.add(item['label'])\n",
    "\n",
    "print(labels)\n"
   ]
  },
  {
   "cell_type": "code",
   "execution_count": 4,
   "metadata": {
    "collapsed": false
   },
   "outputs": [
    {
     "name": "stdout",
     "output_type": "stream",
     "text": [
      "{'disgust': 2074, 'surprise': 473, 'anger': 1147, 'sadness': 1565, 'like': 2888, 'none': 21706, 'happiness': 2146, 'fear': 186}\n"
     ]
    }
   ],
   "source": [
    "label_cnt = {\n",
    "    'disgust': 0, 'surprise': 0, 'anger': 0, 'sadness': 0, 'like': 0, 'none': 0, 'happiness': 0, 'fear': 0\n",
    "}\n",
    "\n",
    "for item in ret_content:\n",
    "    label_cnt[item['label']] += 1\n",
    "\n",
    "print(label_cnt)\n"
   ]
  },
  {
   "cell_type": "code",
   "execution_count": 10,
   "metadata": {},
   "outputs": [
    {
     "name": "stdout",
     "output_type": "stream",
     "text": [
      "19307\n6437\n6441\n"
     ]
    }
   ],
   "source": [
    "label_data = {\n",
    "    'disgust': [], 'surprise': [], 'anger': [], 'sadness': [], 'like': [], 'none': [], 'happiness': [], 'fear': []\n",
    "}\n",
    "\n",
    "for item in ret_content:\n",
    "    label_data[item['label']].append(item)\n",
    "\n",
    "train_data = []\n",
    "test_data = []\n",
    "eval_data = []\n",
    "\n",
    "for k in label_data.keys():\n",
    "    data_len = len(label_data[k])\n",
    "    train_data += label_data[k][0:int(0.6 * data_len)]\n",
    "    test_data += label_data[k][int(0.6 * data_len):int(0.8 * data_len)]\n",
    "    eval_data += label_data[k][int(0.8 * data_len):]\n",
    "\n",
    "print(len(train_data))\n",
    "print(len(test_data))\n",
    "print(len(eval_data))\n"
   ]
  },
  {
   "cell_type": "code",
   "execution_count": 11,
   "metadata": {},
   "outputs": [
    {
     "name": "stdout",
     "output_type": "stream",
     "text": [
      "done!!!\n"
     ]
    }
   ],
   "source": [
    "import json\n",
    "\n",
    "from sklearn.utils import shuffle\n",
    "\n",
    "train_data = shuffle(train_data)\n",
    "test_data = shuffle((test_data))\n",
    "eval_data = shuffle(eval_data)\n",
    "\n",
    "with open('dataset\\\\train.data', 'w', encoding='utf-8') as f:\n",
    "    f.write(json.dumps(train_data, ensure_ascii=False))\n",
    "\n",
    "with open('dataset\\\\test.data', 'w', encoding='utf-8') as f:\n",
    "    f.write(json.dumps(test_data, ensure_ascii=False))\n",
    "\n",
    "with open('dataset\\\\eval.data', 'w', encoding='utf-8') as f:\n",
    "    f.write(json.dumps(eval_data, ensure_ascii=False))\n",
    "\n",
    "print('done!!!')\n"
   ]
  },
  {
   "cell_type": "code",
   "execution_count": null,
   "metadata": {},
   "outputs": [],
   "source": []
  }
 ],
 "metadata": {
  "kernelspec": {
   "display_name": "Python 2",
   "language": "python",
   "name": "python2"
  },
  "language_info": {
   "codemirror_mode": {
    "name": "ipython",
    "version": 2
   },
   "file_extension": ".py",
   "mimetype": "text/x-python",
   "name": "python",
   "nbconvert_exporter": "python",
   "pygments_lexer": "ipython2",
   "version": "2.7.6"
  }
 },
 "nbformat": 4,
 "nbformat_minor": 0
}
