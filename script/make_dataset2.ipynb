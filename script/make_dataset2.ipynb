{
 "cells": [
  {
   "cell_type": "code",
   "execution_count": 1,
   "metadata": {
    "collapsed": true
   },
   "outputs": [
    {
     "name": "stdout",
     "output_type": "stream",
     "text": [
      "D:\\PycharmProjects\\SentimentAnalysis\n"
     ]
    }
   ],
   "source": [
    "import os\n",
    "\n",
    "print(os.getcwd())\n"
   ]
  },
  {
   "cell_type": "code",
   "execution_count": 2,
   "metadata": {
    "collapsed": false
   },
   "outputs": [
    {
     "name": "stdout",
     "output_type": "stream",
     "text": [
      "53713\n['question', 'general__mood', 'general__text', 'general__emoji']\n"
     ]
    }
   ],
   "source": [
    "import csv\n",
    "\n",
    "file_path = os.path.join('dataset', 'raw_data', 'mood_data.csv')\n",
    "with open(file_path, 'r', encoding='utf-8') as f:\n",
    "    mood_data = list(csv.reader(f))\n",
    "\n",
    "print(len(mood_data))\n",
    "print(mood_data[0])\n"
   ]
  },
  {
   "cell_type": "code",
   "execution_count": 3,
   "metadata": {},
   "outputs": [
    {
     "name": "stdout",
     "output_type": "stream",
     "text": [
      "53712\n"
     ]
    }
   ],
   "source": [
    "file_content = []\n",
    "\n",
    "for item in mood_data[1:]:\n",
    "    file_content.append({\n",
    "        'sentence': item[2],\n",
    "        'label': item[1]\n",
    "    })\n",
    "\n",
    "print(len(file_content))\n"
   ]
  },
  {
   "cell_type": "code",
   "execution_count": 4,
   "metadata": {},
   "outputs": [
    {
     "name": "stdout",
     "output_type": "stream",
     "text": [
      "{'厌恶', '思念', '悲伤', '中性', '快乐', '愤怒', '喜爱', '失望'}\n"
     ]
    }
   ],
   "source": [
    "labels = set()\n",
    "\n",
    "for item in file_content:\n",
    "    labels.add(item['label'])\n",
    "\n",
    "print(labels)\n"
   ]
  },
  {
   "cell_type": "code",
   "execution_count": 5,
   "metadata": {},
   "outputs": [
    {
     "name": "stdout",
     "output_type": "stream",
     "text": [
      "{'厌恶': 729, '思念': 340, '悲伤': 872, '中性': 46565, '快乐': 1798, '愤怒': 406, '喜爱': 2691, '失望': 311}\n"
     ]
    }
   ],
   "source": [
    "label_cnt = dict()\n",
    "for l in labels:\n",
    "    label_cnt[l] = 0\n",
    "\n",
    "for item in file_content:\n",
    "    label_cnt[item['label']] += 1\n",
    "\n",
    "print(label_cnt)\n"
   ]
  },
  {
   "cell_type": "code",
   "execution_count": 6,
   "metadata": {},
   "outputs": [
    {
     "name": "stdout",
     "output_type": "stream",
     "text": [
      "32224\n10742\n10746\n"
     ]
    }
   ],
   "source": [
    "from sklearn.utils import shuffle\n",
    "\n",
    "label_data = dict()\n",
    "\n",
    "for l in labels:\n",
    "    label_data[l] = []\n",
    "\n",
    "for item in file_content:\n",
    "    label_data[item['label']].append(item)\n",
    "\n",
    "for l in labels:\n",
    "    label_data[l] = shuffle(label_data[l])\n",
    "\n",
    "train_data = []\n",
    "test_data = []\n",
    "eval_data = []\n",
    "\n",
    "for k in label_data.keys():\n",
    "    data_len = len(label_data[k])\n",
    "    train_data += label_data[k][0:int(0.6 * data_len)]\n",
    "    test_data += label_data[k][int(0.6 * data_len):int(0.8 * data_len)]\n",
    "    eval_data += label_data[k][int(0.8 * data_len):]\n",
    "\n",
    "print(len(train_data))\n",
    "print(len(test_data))\n",
    "print(len(eval_data))\n"
   ]
  },
  {
   "cell_type": "code",
   "execution_count": 7,
   "metadata": {},
   "outputs": [
    {
     "name": "stdout",
     "output_type": "stream",
     "text": [
      "done!!!\n"
     ]
    }
   ],
   "source": [
    "import json\n",
    "\n",
    "from sklearn.utils import shuffle\n",
    "\n",
    "train_data = shuffle(train_data)\n",
    "test_data = shuffle((test_data))\n",
    "eval_data = shuffle(eval_data)\n",
    "\n",
    "with open('dataset\\\\train.data', 'w', encoding='utf-8') as f:\n",
    "    f.write(json.dumps(train_data, ensure_ascii=False))\n",
    "\n",
    "with open('dataset\\\\test.data', 'w', encoding='utf-8') as f:\n",
    "    f.write(json.dumps(test_data, ensure_ascii=False))\n",
    "\n",
    "with open('dataset\\\\eval.data', 'w', encoding='utf-8') as f:\n",
    "    f.write(json.dumps(eval_data, ensure_ascii=False))\n",
    "\n",
    "print('done!!!')"
   ]
  },
  {
   "cell_type": "code",
   "execution_count": null,
   "metadata": {},
   "outputs": [],
   "source": []
  }
 ],
 "metadata": {
  "kernelspec": {
   "display_name": "Python 2",
   "language": "python",
   "name": "python2"
  },
  "language_info": {
   "codemirror_mode": {
    "name": "ipython",
    "version": 2
   },
   "file_extension": ".py",
   "mimetype": "text/x-python",
   "name": "python",
   "nbconvert_exporter": "python",
   "pygments_lexer": "ipython2",
   "version": "2.7.6"
  }
 },
 "nbformat": 4,
 "nbformat_minor": 0
}
